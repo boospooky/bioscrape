{
 "cells": [
  {
   "cell_type": "markdown",
   "metadata": {},
   "source": [
    "# Loglikelihood Functions\n",
    "Bioscrape comes with a number of built in log-likelihood functions for deterministic or stochastic parameter inference. These functions are detailed in the following notebook. First, a simple model is made to test the functions:\n",
    "\n",
    "$\\emptyset \\xrightarrow[]{k_1} X \\; \\; \\; \\; X \\xrightarrow[]{d_1} \\emptyset$\n",
    "\n",
    "A set of N trajectories is then generated from this model, from either the same or different initial conditions, across the same or different time-windows. Gaussian noise is then added to all the samples."
   ]
  },
  {
   "cell_type": "code",
   "execution_count": 1,
   "metadata": {},
   "outputs": [],
   "source": [
    "import bioscrape as bs\n",
    "from bioscrape.types import Model\n",
    "from bioscrape.simulator import py_simulate_model\n",
    "import numpy as np\n",
    "import pylab as plt\n",
    "#Create a Model\n",
    "species = [\"X\"]\n",
    "reactions = [([\"X\"], [], \"massaction\", {\"k\":\"d1\"}), ([], [\"X\"], \"massaction\", {\"k\":\"k1\"})]\n",
    "k1 = 10.0\n",
    "d1 = .2\n",
    "params = [(\"k1\", k1), (\"d1\", d1)]\n",
    "initial_condition = {\"X\":0}\n",
    "M = Model(species = species, reactions = reactions, parameters = params, initial_condition_dict = initial_condition)\n",
    "M.py_initialize()\n",
    "\n",
    "N = 10 #Number of trajectories\n",
    "nT = 50 #number of timepoints\n",
    "noise_std = 5 #Standar deviation of the guassian noise added onto the measurements\n",
    "\n",
    "MultipleTimepoints = True #Different timepoints for each trajectory?\n",
    "timepoint_list = []\n",
    "timepoints = np.linspace(np.random.randint(0, 10), np.random.randint(10, 100), nT)\n",
    "\n",
    "#Generate Trajectories\n",
    "R = [] #Results as Pandas Dataframes\n",
    "Data = [] #Results will become a numpy array\n",
    "MultipleInitialConditions = True #Different initial conditions for each trajectory?\n",
    "\n",
    "X0_list = [] #multiple initial conditions will be saved for inference\n",
    "for n in range(N):\n",
    "    if MultipleInitialConditions:\n",
    "        initial_condition = {\"X\": np.random.randint(0, 100)}\n",
    "        X0_list.append(initial_condition)\n",
    "        \n",
    "    if MultipleTimepoints:\n",
    "        timepoints = np.linspace(np.random.randint(0, 10, 1), np.random.randint(10, 100, 1), num = 50).flatten()\n",
    "        timepoint_list.append(timepoints)\n",
    "    \n",
    "    M.set_species(initial_condition)\n",
    "    r = py_simulate_model(timepoints, Model = M, stochastic = True)\n",
    "    R.append(r)\n",
    "    noisy_data = r[\"X\"].to_numpy() + np.random.normal(loc = 0, scale = noise_std, size = nT)\n",
    "    Data.append(noisy_data)\n",
    "\n",
    "#Plot Results\n",
    "plt.figure()\n",
    "Data = np.array(Data)\n",
    "Data = np.reshape(Data, ( np.shape(Data)+ (1,))) # To make sure Data has shape - N X T X M (where M = len(measured_species))\n",
    "for n in range(N):\n",
    "    plt.plot(R[n]['time'], R[n][\"X\"], color = (n/N, 0, 1-n/N))\n",
    "    plt.plot(R[n]['time'], Data[n], 'o', color = (n/N, 0, 1-n/N))\n",
    "_ = plt.xlabel(\"time\")\n",
    "_ = plt.ylabel(\"X\")"
   ]
  },
  {
   "cell_type": "markdown",
   "metadata": {},
   "source": [
    "## Data Objects and Loglikelihood Objects for Trajectories\n",
    "Different kinds of data must be stored in specific kinds of data objects. In turn, each Log-likelihood object is designed to accept a single kind of data object.\n",
    "\n",
    "DeterministicLikelihood takes a BulkData Data Object. This likelihood sums up the L-norm between N experimental bulk trajectories and a single deterministic ODE simulation for each experimental trajectory.\n",
    "\n",
    "\n",
    "\n",
    "StochasticTrajectoriesLikelihood takes a StochasticTrajectories Data object. This likelihood sums up the pair-wise L-norm between N experimental stochastic trajectories and N_simulations SSA (non-volume) simulations per experimental trajectory.\n",
    "\n",
    "### StochasticTrajectories Constructor\n",
    "*  Timepoints: when the data is sampled. Simulations will return results along the same timepoints.\n",
    " *   If each data sample has unique timepoints, timepoints may be passed in as a 2D array of size N x T.\n",
    " *    If all data is collected along the same range and number of timepoints, a single vector of T timepoints can be used\n",
    "*  Data: an N x T x M array. N: number of samples. T: number of timepoints. M: number of species measured\n",
    "* measured_species: list of M species names corresponding to model species and measurements.\n",
    "* N: Number of samples.\n",
    "\n",
    "### StochasticTrajectoriesLikelihood Constructor\n",
    "* model: A Bioscrape Model\n",
    "* data: StochasticTrajectories Data Object. If not passed in, can be added via .set_data(StochastiTrajectories) method.\n",
    "#### Optional:\n",
    " * init_state: an initial state dictionary or a list of N (#samples) initial state dictionaries. Defaults to Model's initial state\n",
    " * N_simulations: Number of simulations per sample. Defaults to 1.\n",
    " * norm_order: What L-norm to use. Defaults to 1.\n",
    " * ModelCSimInterface. Generated from Model otherwise.\n",
    " * Simulator: How to simulate the model. Defaults to SSASimulator or DelaySSASimulator otherwise.\n",
    " \n",
    " "
   ]
  },
  {
   "cell_type": "code",
   "execution_count": 2,
   "metadata": {
    "scrolled": true
   },
   "outputs": [
    {
     "name": "stdout",
     "output_type": "stream",
     "text": [
      "LL_stoch.N_simulations 3 LL_stoch.norm_order 1 LL_det.norm_order 1\n"
     ]
    }
   ],
   "source": [
    "#Create LogLikelihoodFunction\n",
    "from bioscrape.inference import DeterministicLikelihood as DLL\n",
    "from bioscrape.inference import BulkData\n",
    "from bioscrape.inference import StochasticTrajectoriesLikelihood as STLL\n",
    "from bioscrape.inference import StochasticTrajectories\n",
    "\n",
    "\n",
    "# Create a Data Objects\n",
    "if MultipleTimepoints:\n",
    "    DataStoch = StochasticTrajectories(np.array(timepoint_list), Data, [\"X\"], N)\n",
    "    DataDet = BulkData(np.array(timepoint_list), Data, [\"X\"], N)\n",
    "else:\n",
    "    DataStoch = StochasticTrajectories(timepoints, Data, [\"X\"], N)\n",
    "    DataDet = BulkData(timepoints, Data, [\"X\"], N)\n",
    "\n",
    "#Ceate Likelihodo objects:\n",
    "N_simulations = 3 #Number of simulations per sample to compare to\n",
    "norm_order = 1 #(integer) Which norm to use: 1-Norm, 2-norm, etc.\n",
    "\n",
    "#If there are multiple initial conditions in a data-set, should correspond to multiple initial conditions for inference.\n",
    "#Note len(X0_list) must be equal to the number of trajectories N\n",
    "if MultipleInitialConditions:    \n",
    "    LL_stoch = STLL(model = M, init_state = X0_list, data = DataStoch, N_simulations = N_simulations, norm_order = norm_order)\n",
    "    LL_det = DLL(model = M, init_state = X0_list, data = DataDet, norm_order = norm_order)\n",
    "    \n",
    "\n",
    "#Multiple samples with a single initial only require a single initial condition.\n",
    "else:\n",
    "    LL_stoch = STLL(model = M, init_state = initial_condition, data = DataStoch, norm_order = norm_order, N_simulations = N_simulations)\n",
    "    LL_det = DLL(model = M, init_state = initial_condition, data = DataDet, norm_order = norm_order)\n",
    "\n",
    "print(\"LL_stoch.N_simulations\", LL_stoch.py_get_N_simulations(), \"LL_stoch.norm_order\", LL_stoch.py_get_norm_order(), \"LL_det.norm_order\", LL_det.py_get_norm_order())\n"
   ]
  },
  {
   "cell_type": "code",
   "execution_count": 3,
   "metadata": {},
   "outputs": [
    {
     "name": "stdout",
     "output_type": "stream",
     "text": [
      "di= 0...ki =0 1 2 3 4 5 6 7 8 9 10 11 12 13 14 di= 1...ki =0 1 2 3 4 5 6 7 8 9 10 11 12 13 14 di= 2...ki =0 1 2 3 4 5 6 7 8 9 10 11 12 13 14 di= 3...ki =0 1 2 3 4 5 6 7 8 9 10 11 12 13 14 di= 4...ki =0 1 2 3 4 5 6 7 8 9 10 11 12 13 14 di= 5...ki =0 1 2 3 4 5 6 7 8 9 10 11 12 13 14 di= 6...ki =0 1 2 3 4 5 6 7 8 9 10 11 12 13 14 di= 7...ki =0 1 2 3 4 5 6 7 8 9 10 11 12 13 14 di= 8...ki =0 1 2 3 4 5 6 7 8 9 10 11 12 13 14 di= 9...ki =0 1 2 3 4 5 6 7 8 9 10 11 12 13 14 di= 10...ki =0 1 2 3 4 5 6 7 8 9 10 11 12 13 14 di= 11...ki =0 1 2 3 4 5 6 7 8 9 10 11 12 13 14 di= 12...ki =0 1 2 3 4 5 6 7 8 9 10 11 12 13 14 di= 13...ki =0 1 2 3 4 5 6 7 8 9 10 11 12 13 14 di= 14...ki =0 1 2 3 4 5 6 7 8 9 10 11 12 13 14 "
     ]
    },
    {
     "data": {
      "image/png": "[encoded data removed]",
      "text/plain": [
       "<Figure size 1296x576 with 4 Axes>"
      ]
     },
     "metadata": {},
     "output_type": "display_data"
    }
   ],
   "source": [
    "npoints = 15\n",
    "d_list = np.logspace(-12, 12, base = 2, num = npoints)\n",
    "k_list = np.logspace(-12, 12, base = 2, num = npoints)\n",
    "HM_stoch = np.zeros((len(d_list), len(k_list)))\n",
    "HM_det = np.zeros((len(d_list), len(k_list)))\n",
    "\n",
    "\n",
    "for di in range(len(d_list)):\n",
    "    print(\"di=\", di, end = \"...ki =\")\n",
    "    for ki in range(len(k_list)):\n",
    "        print(ki, end = \" \")\n",
    "        LL_stoch.set_init_params({\"d1\":d_list[di], \"k1\":k_list[ki]})\n",
    "        LL_det.set_init_params({\"d1\":d_list[di], \"k1\":k_list[ki]})\n",
    "        \n",
    "        vs = LL_stoch.py_log_likelihood()\n",
    "        vd = LL_det.py_log_likelihood()\n",
    "        \n",
    "        HM_stoch[di, ki] = -vs\n",
    "        HM_det[di, ki] = -vd\n",
    "\n",
    "plt.figure(figsize = (18, 8))\n",
    "plt.subplot(121)\n",
    "plt.title(\"Stochastic Log Likelihood of a Non-Identifiable Manifold\\n k =\"+str(k1)+\" d=\"+str(d1))\n",
    "plt.xlabel(\"log k\")\n",
    "plt.xticks(range(npoints), [round(np.log(k), 1) for k in k_list])\n",
    "plt.ylabel(\"log d\")\n",
    "plt.yticks(range(npoints), [round(np.log(d), 1) for d in d_list])\n",
    "cb = plt.pcolor(np.log(HM_stoch))\n",
    "_ = plt.colorbar(cb)\n",
    "\n",
    "plt.subplot(122)\n",
    "plt.title(\"Deterministic Log Likelihood of a Non-Identifiable Manifold\\n k =\"+str(k1)+\" d=\"+str(d1))\n",
    "plt.xlabel(\"log k\")\n",
    "plt.xticks(range(npoints), [round(np.log(k), 1) for k in k_list])\n",
    "plt.ylabel(\"log d\")\n",
    "plt.yticks(range(npoints), [round(np.log(d), 1) for d in d_list])\n",
    "cb = plt.pcolor(np.log(HM_det))\n",
    "_ = plt.colorbar(cb)"
   ]
  },
  {
   "cell_type": "code",
   "execution_count": null,
   "metadata": {},
   "outputs": [],
   "source": []
  }
 ],
 "metadata": {
  "kernelspec": {
   "display_name": "Python 3",
   "language": "python",
   "name": "python3"
  },
  "language_info": {
   "codemirror_mode": {
    "name": "ipython",
    "version": 3
   },
   "file_extension": ".py",
   "mimetype": "text/x-python",
   "name": "python",
   "nbconvert_exporter": "python",
   "pygments_lexer": "ipython3",
   "version": "3.6.5"
  }
 },
 "nbformat": 4,
 "nbformat_minor": 2
}
