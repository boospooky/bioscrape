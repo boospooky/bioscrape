{
 "cells": [
  {
   "cell_type": "code",
   "execution_count": 1,
   "metadata": {
    "scrolled": true
   },
   "outputs": [
    {
     "ename": "AttributeError",
     "evalue": "'NoneType' object has no attribute 'getListOfReactions'",
     "output_type": "error",
     "traceback": [
      "\u001b[1;31m---------------------------------------------------------------------------\u001b[0m",
      "\u001b[1;31mAttributeError\u001b[0m                            Traceback (most recent call last)",
      "\u001b[1;32m<ipython-input-1-b27594c13838>\u001b[0m in \u001b[0;36m<module>\u001b[1;34m()\u001b[0m\n\u001b[0;32m     34\u001b[0m     \u001b[1;32mraise\u001b[0m \u001b[0mValueError\u001b[0m\u001b[1;33m(\u001b[0m\u001b[1;34m\"Invalid Value of N\"\u001b[0m\u001b[1;33m)\u001b[0m\u001b[1;33m\u001b[0m\u001b[0m\n\u001b[0;32m     35\u001b[0m \u001b[1;33m\u001b[0m\u001b[0m\n\u001b[1;32m---> 36\u001b[1;33m \u001b[0mM1\u001b[0m \u001b[1;33m=\u001b[0m \u001b[0mLineageModel\u001b[0m\u001b[1;33m(\u001b[0m\u001b[0msbml_filename\u001b[0m \u001b[1;33m=\u001b[0m \u001b[0msbml_file1\u001b[0m\u001b[1;33m)\u001b[0m\u001b[1;33m\u001b[0m\u001b[0m\n\u001b[0m\u001b[0;32m     37\u001b[0m \u001b[0mM2\u001b[0m \u001b[1;33m=\u001b[0m \u001b[0mLineageModel\u001b[0m\u001b[1;33m(\u001b[0m\u001b[0msbml_filename\u001b[0m \u001b[1;33m=\u001b[0m \u001b[0msbml_file2\u001b[0m\u001b[1;33m)\u001b[0m\u001b[1;33m\u001b[0m\u001b[0m\n\u001b[0;32m     38\u001b[0m \u001b[1;33m\u001b[0m\u001b[0m\n",
      "\u001b[1;32mlineage\\lineage.pyx\u001b[0m in \u001b[0;36mbioscrape.lineage.LineageModel.__init__\u001b[1;34m()\u001b[0m\n",
      "\u001b[1;32mbioscrape\\types.pyx\u001b[0m in \u001b[0;36mbioscrape.types.Model.__init__\u001b[1;34m()\u001b[0m\n",
      "\u001b[1;32mbioscrape\\types.pyx\u001b[0m in \u001b[0;36mbioscrape.types.Model.convert_sbml_to_string\u001b[1;34m()\u001b[0m\n",
      "\u001b[1;32mbioscrape\\types.pyx\u001b[0m in \u001b[0;36mbioscrape.types.Model.process_sbml\u001b[1;34m()\u001b[0m\n",
      "\u001b[1;31mAttributeError\u001b[0m: 'NoneType' object has no attribute 'getListOfReactions'"
     ]
    }
   ],
   "source": [
    "%matplotlib inline\n",
    "\n",
    "import bioscrape as bs\n",
    "import libsbml\n",
    "from bioscrape.lineage import py_SimulateInteractingCellLineage\n",
    "from bioscrape.lineage import py_SimulateSingleCell\n",
    "\n",
    "from bioscrape.lineage import LineageModel\n",
    "import numpy as np\n",
    "import pylab as plt\n",
    "\n",
    "#Number of cells\n",
    "N = 20\n",
    "\n",
    "sbml_file_path = \"C:\\\\Users\\\\wp_ix\\\\OneDrive\\\\Caltech\\\\Code\\\\bioscrape lineages\\\\sbml models\\\\\"\n",
    "f1 = \"cell_to_cell_comm_model_1.xml\"\n",
    "f2 = \"cell_to_cell_comm_model_2.xml\"\n",
    "f5 = \"cell_to_cell_comm_model_5.xml\"\n",
    "f20 = \"cell_to_cell_comm_model_10.xml\"\n",
    "f100 = \"cell_to_cell_comm_model_100.xml\"\n",
    "\n",
    "sbml_file1 = sbml_file_path+f1\n",
    "if N == 1:\n",
    "    sbml_file2 = sbml_file_path+f1\n",
    "elif N == 2:\n",
    "    sbml_file2 = sbml_file_path+f2\n",
    "elif N == 5:\n",
    "    sbml_file2 = sbml_file_path+f5\n",
    "elif N == 20:\n",
    "    sbml_file2 = sbml_file_path+f20\n",
    "elif N == 100:\n",
    "    sbml_file2 = sbml_file_path+f100\n",
    "else:\n",
    "    raise ValueError(\"Invalid Value of N\")\n",
    "\n",
    "M1 = LineageModel(sbml_filename = sbml_file1)\n",
    "M2 = LineageModel(sbml_filename = sbml_file2)\n",
    "\n",
    "print(M2.get_species())\n",
    "\n",
    "timepoints = np.arange(0, 50, .001)\n",
    "\n",
    "results2 = py_SimulateSingleCell(timepoints, Model = M2)\n",
    "data_crn = results2\n",
    "print(data_crn.shape)\n",
    "\n",
    "print(timepoints[-1])\n",
    "global_sync_period = .01\n",
    "lineage = py_SimulateInteractingCellLineage(timepoints, global_sync_period, models = [M1], initial_cell_states = [N], global_species = [\"A\", \"B\"], global_species_method = 3)\n",
    "data_approx = []\n",
    "print(\"lineages returned:\", lineage.py_size())\n",
    "for i in range(lineage.py_size()):\n",
    "    sch = lineage.py_get_schnitz(i)\n",
    "    data_approx.append(sch.py_get_dataframe(Model = M1))\n",
    "    t = sch.py_get_time()\n",
    "    print(\"i=\", i, \"t0=\", t[0], \"tf=\", t[1], \"len(t)=\", len(t))#, t.shape, t)\n",
    "    #for j in range(6):\n",
    "        #print(\"\\tj=\", j ,sch.py_get_data()[:, j])\n",
    "print([data_approx[i].shape for i in range(N)])\n",
    "\n",
    "\n",
    "\n",
    "\n",
    "\n",
    "\n"
   ]
  },
  {
   "cell_type": "code",
   "execution_count": 6,
   "metadata": {},
   "outputs": [
    {
     "data": {
      "text/plain": [
       "(0, 25)"
      ]
     },
     "execution_count": 6,
     "metadata": {},
     "output_type": "execute_result"
    },
    {
     "data": {
      "image/png": "[encoded data removed]",
      "text/plain": [
       "<Figure size 432x288 with 2 Axes>"
      ]
     },
     "metadata": {
      "needs_background": "light"
     },
     "output_type": "display_data"
    }
   ],
   "source": [
    "plt.figure()\n",
    "color_list = [\"cyan\", \"blue\"]\n",
    "plt.subplot(121)\n",
    "plt.title(\"Approximate\")\n",
    "plt.xlabel(\"Time\")\n",
    "plt.ylabel(\"Count\")\n",
    "plt.ylim(0, 25)\n",
    "meanA_approx = 0\n",
    "for i in range(lineage.py_size()):\n",
    "    plt.plot(timepoints, data_approx[i][\"A\"], color = color_list[0])\n",
    "    plt.plot(timepoints, data_approx[i][\"B\"], color = color_list[1])\n",
    "\n",
    "\n",
    "plt.subplot(122)\n",
    "plt.title(\"Exact\")\n",
    "plt.plot(timepoints, data_crn[\"A_1_combined\"], color = color_list[0])\n",
    "plt.plot(timepoints, data_crn[\"B_1_combined\"], color = color_list[1])\n",
    "plt.xlabel(\"Time\")\n",
    "plt.ylim(0, 25)\n"
   ]
  },
  {
   "cell_type": "code",
   "execution_count": null,
   "metadata": {},
   "outputs": [],
   "source": []
  },
  {
   "cell_type": "code",
   "execution_count": null,
   "metadata": {},
   "outputs": [],
   "source": []
  },
  {
   "cell_type": "code",
   "execution_count": null,
   "metadata": {},
   "outputs": [],
   "source": []
  },
  {
   "cell_type": "code",
   "execution_count": null,
   "metadata": {},
   "outputs": [],
   "source": []
  }
 ],
 "metadata": {
  "kernelspec": {
   "display_name": "Python 3",
   "language": "python",
   "name": "python3"
  },
  "language_info": {
   "codemirror_mode": {
    "name": "ipython",
    "version": 3
   },
   "file_extension": ".py",
   "mimetype": "text/x-python",
   "name": "python",
   "nbconvert_exporter": "python",
   "pygments_lexer": "ipython3",
   "version": "3.6.5"
  }
 },
 "nbformat": 4,
 "nbformat_minor": 2
}
